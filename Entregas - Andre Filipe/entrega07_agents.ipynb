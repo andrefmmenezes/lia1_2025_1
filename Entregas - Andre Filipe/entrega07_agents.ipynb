{
  "nbformat": 4,
  "nbformat_minor": 0,
  "metadata": {
    "colab": {
      "provenance": []
    },
    "kernelspec": {
      "name": "python3",
      "display_name": "Python 3"
    },
    "language_info": {
      "name": "python"
    }
  },
  "cells": [
    {
      "cell_type": "code",
      "source": [
        "%pip install python-dotenv"
      ],
      "metadata": {
        "colab": {
          "base_uri": "https://localhost:8080/"
        },
        "id": "6c3aO80xApqk",
        "outputId": "68d64797-a327-4488-8afa-28dde3853a42"
      },
      "execution_count": 2,
      "outputs": [
        {
          "output_type": "stream",
          "name": "stdout",
          "text": [
            "Collecting python-dotenv\n",
            "  Downloading python_dotenv-1.1.0-py3-none-any.whl.metadata (24 kB)\n",
            "Downloading python_dotenv-1.1.0-py3-none-any.whl (20 kB)\n",
            "Installing collected packages: python-dotenv\n",
            "Successfully installed python-dotenv-1.1.0\n"
          ]
        }
      ]
    },
    {
      "cell_type": "code",
      "execution_count": 10,
      "metadata": {
        "id": "CQcpN4o-vIuz"
      },
      "outputs": [],
      "source": [
        "from dotenv import load_dotenv\n",
        "import os\n",
        "import google.generativeai as genai"
      ]
    },
    {
      "cell_type": "code",
      "source": [
        "# Carregar variável de ambiente\n",
        "load_dotenv()\n",
        "genai.configure(api_key=os.getenv(\"GOOGLE_API_KEY\"))"
      ],
      "metadata": {
        "id": "NsGYCxItAlQK"
      },
      "execution_count": 11,
      "outputs": []
    },
    {
      "cell_type": "code",
      "source": [
        "for model in genai.list_models():\n",
        "    print(model.name)"
      ],
      "metadata": {
        "colab": {
          "base_uri": "https://localhost:8080/",
          "height": 1000
        },
        "id": "-P59Ye4BCWWQ",
        "outputId": "04b7f25e-b6a2-4516-e33e-a6f49a82adb9"
      },
      "execution_count": 13,
      "outputs": [
        {
          "output_type": "stream",
          "name": "stdout",
          "text": [
            "models/embedding-gecko-001\n",
            "models/gemini-1.0-pro-vision-latest\n",
            "models/gemini-pro-vision\n",
            "models/gemini-1.5-pro-latest\n",
            "models/gemini-1.5-pro-001\n",
            "models/gemini-1.5-pro-002\n",
            "models/gemini-1.5-pro\n",
            "models/gemini-1.5-flash-latest\n",
            "models/gemini-1.5-flash-001\n",
            "models/gemini-1.5-flash-001-tuning\n",
            "models/gemini-1.5-flash\n",
            "models/gemini-1.5-flash-002\n",
            "models/gemini-1.5-flash-8b\n",
            "models/gemini-1.5-flash-8b-001\n",
            "models/gemini-1.5-flash-8b-latest\n",
            "models/gemini-1.5-flash-8b-exp-0827\n",
            "models/gemini-1.5-flash-8b-exp-0924\n",
            "models/gemini-2.5-pro-exp-03-25\n",
            "models/gemini-2.5-pro-preview-03-25\n",
            "models/gemini-2.5-flash-preview-04-17\n",
            "models/gemini-2.5-flash-preview-05-20\n",
            "models/gemini-2.5-flash-preview-04-17-thinking\n",
            "models/gemini-2.5-pro-preview-05-06\n",
            "models/gemini-2.0-flash-exp\n",
            "models/gemini-2.0-flash\n",
            "models/gemini-2.0-flash-001\n",
            "models/gemini-2.0-flash-exp-image-generation\n",
            "models/gemini-2.0-flash-lite-001\n",
            "models/gemini-2.0-flash-lite\n",
            "models/gemini-2.0-flash-preview-image-generation\n",
            "models/gemini-2.0-flash-lite-preview-02-05\n",
            "models/gemini-2.0-flash-lite-preview\n",
            "models/gemini-2.0-pro-exp\n",
            "models/gemini-2.0-pro-exp-02-05\n",
            "models/gemini-exp-1206\n",
            "models/gemini-2.0-flash-thinking-exp-01-21\n",
            "models/gemini-2.0-flash-thinking-exp\n",
            "models/gemini-2.0-flash-thinking-exp-1219\n",
            "models/gemini-2.5-flash-preview-tts\n",
            "models/gemini-2.5-pro-preview-tts\n",
            "models/learnlm-2.0-flash-experimental\n",
            "models/gemma-3-1b-it\n",
            "models/gemma-3-4b-it\n",
            "models/gemma-3-12b-it\n",
            "models/gemma-3-27b-it\n",
            "models/gemma-3n-e4b-it\n",
            "models/embedding-001\n",
            "models/text-embedding-004\n",
            "models/gemini-embedding-exp-03-07\n",
            "models/gemini-embedding-exp\n",
            "models/aqa\n",
            "models/imagen-3.0-generate-002\n",
            "models/veo-2.0-generate-001\n",
            "models/gemini-2.5-flash-preview-native-audio-dialog\n",
            "models/gemini-2.5-flash-preview-native-audio-dialog-rai-v3\n",
            "models/gemini-2.5-flash-exp-native-audio-thinking-dialog\n",
            "models/gemini-2.0-flash-live-001\n"
          ]
        }
      ]
    },
    {
      "cell_type": "code",
      "source": [
        "# Função para criar agentes simulando comportamentos\n",
        "def gerar_resposta_gemini(prompt):\n",
        "    model = genai.GenerativeModel(\"models/gemini-1.5-flash\")\n",
        "    response = model.generate_content(prompt)\n",
        "    return response.text.strip()"
      ],
      "metadata": {
        "id": "OOaLuS91An-M"
      },
      "execution_count": 12,
      "outputs": []
    },
    {
      "cell_type": "code",
      "source": [
        "def guia_personalizado(materia, tempo_disponivel, objetivo, formato_preferido, dificuldades):\n",
        "    prompt = f\"\"\"\n",
        "    Você é um tutor especialista em técnicas de estudo. Crie um plano de estudo semanal para a matéria '{materia}'.\n",
        "    O aluno tem {tempo_disponivel} disponíveis para estudo e seu principal objetivo é '{objetivo}'.\n",
        "    Seu formato de aprendizado preferido é {formato_preferido}.\n",
        "    Ele(a) relatou dificuldades com '{dificuldades}'.\n",
        "\n",
        "    O plano deve incluir:\n",
        "    - Divisão do conteúdo em tópicos menores para cada sessão de estudo.\n",
        "    - Sugestões de recursos específicos (ex: tipos de vídeos, artigos, capítulos de livros genéricos sobre o tema).\n",
        "    - Técnicas de estudo ativas para aplicar em cada tópico.\n",
        "    - Estratégias para superar a dificuldade com '{dificuldades}'.\n",
        "    - Sugestões de pausas e revisões programadas.\n",
        "\n",
        "    A linguagem deve ser motivadora e prática.\n",
        "    \"\"\"\n",
        "    return gerar_resposta_gemini(prompt)"
      ],
      "metadata": {
        "id": "l4fIPVgFA00B"
      },
      "execution_count": 14,
      "outputs": []
    },
    {
      "cell_type": "code",
      "source": [
        "def detalha_guia(plano_gerado):\n",
        "    prompt = f\"\"\"\n",
        "    Você é um especialista em otimização de estudos e acompanhamento de progresso. Com base no seguinte plano de estudo personalizado:\n",
        "    \\\"\\\"\\\"\n",
        "    {plano_gerado}\n",
        "    \\\"\\\"\\\"\n",
        "    Crie um guia de detalhamento e acompanhamento semanal que ajude o estudante a executar este plano com máxima eficácia. O guia deve incluir:\n",
        "\n",
        "    - **Metas Diárias/Por Sessão de Estudo:** Para cada sessão de estudo sugerida no plano, detalhe 2-3 micro-tarefas ou focos específicos (ex: \"Ler páginas X-Y do capítulo Z\", \"Resolver os 5 primeiros exercícios sobre o tópico A\", \"Assistir ao vídeo recomendado e anotar 3 pontos chave\").\n",
        "    - **Sugestões de Pomodoro/Blocos de Tempo:** Para cada sessão, sugira como dividir o tempo em blocos de estudo focado e pequenas pausas, se aplicável.\n",
        "    - **Perguntas de Autoavaliação Pós-Sessão:** Ao final de cada tópico ou sessão principal, sugira 1-2 perguntas que o estudante pode se fazer para verificar o entendimento do conteúdo abordado (ex: \"Consigo explicar o conceito X com minhas próprias palavras?\", \"Quais foram os pontos mais desafiadores e por quê?\").\n",
        "    - **Estratégias de Revisão Ativa:** Com base nos tópicos da semana, sugira 2-3 métodos de revisão ativa para o final da semana (ex: criar flashcards dos termos mais importantes, tentar ensinar o conteúdo para alguém, resolver um problema prático sem consulta).\n",
        "    - **Lembrete Motivacional Curto e Específico:** Uma frase motivacional breve para o início da semana, conectada ao objetivo de aprendizado ou à superação das dificuldades mencionadas no plano original.\n",
        "\n",
        "    Apresente este guia de forma clara, organizada (talvez dia a dia ou por sessão de estudo, conforme o plano original) e com linguagem encorajadora e prática.\n",
        "    \"\"\"\n",
        "    return gerar_resposta_gemini(prompt)"
      ],
      "metadata": {
        "id": "XKyv5oBcLwQU"
      },
      "execution_count": 27,
      "outputs": []
    },
    {
      "cell_type": "code",
      "source": [
        "materia = \"História do Brasil (Período Colonial)\"\n",
        "tempo_disponivel = \"5 horas\"\n",
        "objetivo = \"compreender os principais ciclos econômicos e movimentos sociais\"\n",
        "formato_preferido = \"leitura de textos, vídeos curtos e resolução de questões\"\n",
        "dificuldades = \"memorização de datas e nomes específicos\""
      ],
      "metadata": {
        "id": "p8NyPNFVFXYE"
      },
      "execution_count": 15,
      "outputs": []
    },
    {
      "cell_type": "code",
      "source": [
        "resultado = guia_personalizado(materia, tempo_disponivel, objetivo, formato_preferido, dificuldades)"
      ],
      "metadata": {
        "id": "dv3VxqsMHIlT"
      },
      "execution_count": 16,
      "outputs": []
    },
    {
      "cell_type": "code",
      "source": [
        "detalhe_resultado = detalha_guia(resultado)"
      ],
      "metadata": {
        "id": "VEyrF7oyMgwB"
      },
      "execution_count": 29,
      "outputs": []
    },
    {
      "cell_type": "code",
      "source": [
        "from IPython.display import Markdown\n",
        "\n",
        "resultados = f\"#📚 Guia personalizado\\n {resultado}\\n#📔 Guia personalizado detalhado\\n {detalhe_resultado}\"\n",
        "Markdown(resultados)"
      ],
      "metadata": {
        "colab": {
          "base_uri": "https://localhost:8080/",
          "height": 1000
        },
        "id": "G8uK7kcSIwck",
        "outputId": "74e18d0f-21e4-42d0-8017-436376911467"
      },
      "execution_count": 32,
      "outputs": [
        {
          "output_type": "execute_result",
          "data": {
            "text/plain": [
              "<IPython.core.display.Markdown object>"
            ],
            "text/markdown": "#📚 Guia personalizado\n ## Plano de Estudo Semanal: História do Brasil - Período Colonial (5 horas)\n\n**Objetivo principal:** Compreender os principais ciclos econômicos e movimentos sociais do Período Colonial Brasileiro.\n\n**Formato preferido:** Leitura, vídeos curtos e resolução de questões.\n\n**Dificuldade:** Memorização de datas e nomes específicos.\n\n\n**Estratégia para memorização:**  Em vez de focar na memorização pura e simples de datas e nomes, vamos nos concentrar na **compreensão do contexto**.  Datas e nomes serão apresentados como elementos *dentro* de uma narrativa, facilitando a retenção.  Usaremos também *mapas mentais* e *associações criativas* para melhorar a memória.\n\n**Divisão do tempo (5 horas):**\n\n**Dia 1 (1 hora e 30 minutos): Ciclo do Pau-Brasil e a Colonização (1500-1600)**\n\n* **Tópicos:** Chegada dos portugueses, extração do pau-brasil, características da colonização inicial, relações com os indígenas.\n* **Recursos:**\n    * Vídeo curto (Khan Academy ou YouTube Educacional): \"O Pau-Brasil e a Colonização\" (busque por esses termos).\n    * Capítulo de livro didático (qualquer livro introdutório sobre História do Brasil):  seção sobre o início da colonização.\n* **Técnicas:**\n    * **Leitura ativa:** Anote as principais características de cada etapa, sublinhando palavras-chave.\n    * **Mapeamento mental:** Crie um mapa mental conectando os principais eventos e personagens desse período.  Não se preocupe em memorizar todas as datas, foque na sequência dos eventos.\n* **Técnica anti-esquecimento:** Associe imagens mentais ao que você está lendo. Por exemplo, visualize uma árvore de pau-brasil enorme ao lado de uma caravela.\n\n\n**Dia 2 (1 hora): Ciclo da Cana-de-Açúcar e a Economia Açucarera (1530-1700)**\n\n* **Tópicos:**  Organização da produção açucareira (engenhos, mão-de-obra escrava), impacto econômico e social, resistência indígena.\n* **Recursos:**\n    * Vídeo curto (documentário ou animação): Busque vídeos sobre \"engenhos de açúcar\" ou \"economia açucareira no Brasil Colônia\".\n    * Artigo online (historiadores ou portais educativos): Procure artigos sobre a economia açucareira e seu impacto social.\n* **Técnicas:**\n    * **Resumo:** Faça um resumo do processo produtivo do açúcar, destacando os personagens e suas funções.\n    * **Linha do tempo simplificada:**  Crie uma linha do tempo com os principais eventos (início, apogeu e declínio), sem a necessidade de datas precisas, apenas a ordem cronológica.\n* **Técnica anti-esquecimento:**  Use mnemônicos (frases ou palavras que lembrem os pontos importantes). Ex: \"Engenho, escravidão, riqueza, revoltas\".\n\n\n**Dia 3 (1 hora): Ciclo do Ouro e a Expansão para o interior (1690-1800)**\n\n* **Tópicos:** Descoberta do ouro,  interiorização do Brasil, formação de vilas e cidades, impacto social e econômico.\n* **Recursos:**\n    * Vídeo curto (documentário ou série histórica): busque vídeos sobre a \"corrida do ouro no Brasil\".\n    * Capítulo de livro didático: Seção sobre o ciclo do ouro e suas consequências.\n* **Técnicas:**\n    * **Comparação:** Compare o ciclo do ouro com o ciclo do açúcar, destacando as semelhanças e diferenças.\n    * **Criação de perguntas:** Formule 3 perguntas sobre o ciclo do ouro e procure as respostas nos materiais de estudo.\n* **Técnica anti-esquecimento:**  Crie um personagem fictício que viveu durante a corrida do ouro e descreva sua rotina, incluindo detalhes que você quer lembrar.\n\n\n**Dia 4 (1 hora): Movimentos sociais no Período Colonial (1 hora)**\n\n* **Tópicos:** Revoltas indígenas (ex: Tupinambás, Confederação dos Cariris), Rebeliões coloniais (ex: Inconfidência Mineira), Quilombos (ex: Palmares).\n* **Recursos:**\n    * Vídeo curto (documentário ou série histórica): Procure vídeos sobre as principais revoltas e quilombos.\n    * Artigos online:  Pesquise sobre diferentes movimentos sociais, focando em suas causas e consequências.\n* **Técnicas:**\n    * **Quadro comparativo:**  Faça um quadro comparativo das diferentes revoltas e quilombos, contrastando suas motivações e resultados.\n    * **Discussão (se possível):**  Se tiver um grupo de estudo, discuta as causas e consequências dos movimentos sociais.\n* **Técnica anti-esquecimento:** Use flashcards com o nome do movimento e uma breve descrição do contexto e do resultado.\n\n\n**Dia 5 (30 minutos): Revisão e Questões**\n\n* **Tópicos:** Revisão de todos os tópicos estudados.\n* **Recursos:**\n    * Lista de exercícios: procure questões online ou em seu livro didático.\n* **Técnicas:**\n    * **Revisão ativa:** Revise seus mapas mentais, resumos e anotações.\n    * **Resolução de questões:** Resolva as questões, focando na compreensão e não apenas na resposta correta.\n\n\n**Pausas:**  Inclua pausas de 5-10 minutos a cada hora de estudo para evitar a fadiga mental.\n\n\n**Observação:** Adapte este plano às suas necessidades e recursos disponíveis. Lembre-se de que a compreensão do contexto histórico é mais importante do que a memorização de datas e nomes específicos. Boa sorte!\n#📔 Guia personalizado detalhado\n ## Guia de Detalhamento e Acompanhamento Semanal: História do Brasil - Período Colonial\n\n**Lembrete Motivacional da Semana:**  \"A compreensão da história não é apenas memorizar fatos, mas construir narrativas.  Sua capacidade de conectar eventos e compreender contextos é sua maior força neste estudo!\"\n\n\n**Dia 1: Ciclo do Pau-Brasil e a Colonização (1 hora e 30 minutos)**\n\n* **Metas:**\n    1. Assistir ao vídeo \"O Pau-Brasil e a Colonização\" (Khan Academy ou YouTube Educacional) e anotar 3 pontos-chave sobre as relações entre portugueses e indígenas.\n    2. Ler o capítulo introdutório do livro didático sobre a colonização inicial (páginas X-Y – *especificar as páginas do livro do aluno*), sublinhando palavras-chave e anotando exemplos.\n    3. Criar um mapa mental conectando a chegada dos portugueses, a extração do pau-brasil e as características da colonização inicial, incluindo imagens mentais (caravela, árvore de pau-brasil gigante, etc.).\n\n* **Sugestões de Pomodoro:** 25 minutos de estudo + 5 minutos de pausa (repetir 3 vezes) + 15 minutos para o mapa mental.\n\n\n* **Perguntas de Autoavaliação:**\n    1. Consigo explicar a diferença entre a exploração do pau-brasil e a colonização propriamente dita?\n    2. Quais foram os principais desafios enfrentados pelos portugueses na colonização inicial?\n\n**Dia 2: Ciclo da Cana-de-Açúcar e a Economia Açucarera (1 hora)**\n\n* **Metas:**\n    1. Assistir a um vídeo sobre \"engenhos de açúcar\" ou \"economia açucareira no Brasil Colônia\" e criar um pequeno resumo do processo produtivo, incluindo o papel dos escravos.\n    2. Ler um artigo online (sugestão: buscar em sites históricos confiáveis) sobre o impacto social da economia açucareira, anotando ao menos três consequências.\n    3. Criar uma linha do tempo simplificada mostrando a ordem cronológica do desenvolvimento e declínio da economia açucareira.\n\n* **Sugestões de Pomodoro:** 25 minutos de estudo + 5 minutos de pausa (repetir 2 vezes) + 10 minutos para a linha do tempo.\n\n* **Perguntas de Autoavaliação:**\n    1. Quais eram os principais elementos que faziam o sistema de produção de açúcar lucrativo?\n    2. Como a economia açucareira impactou a sociedade brasileira colonial (considerando indígenas e escravizados)?\n\n**Dia 3: Ciclo do Ouro e a Expansão para o interior (1 hora)**\n\n* **Metas:**\n    1. Assistir a um vídeo sobre a \"corrida do ouro no Brasil\" e identificar 2 semelhanças e 2 diferenças entre o ciclo do ouro e o ciclo do açúcar.\n    2. Ler a seção sobre o ciclo do ouro no livro didático (páginas Z-W – *especificar as páginas do livro do aluno*), focando no impacto social e econômico.\n    3. Formular e responder 3 perguntas sobre o ciclo do ouro, usando o material de estudo.\n\n* **Sugestões de Pomodoro:** 25 minutos de estudo + 5 minutos de pausa (repetir 2 vezes) + 10 minutos para formulação e resposta das perguntas.\n\n\n* **Perguntas de Autoavaliação:**\n    1. Como a descoberta do ouro influenciou a interiorização do Brasil?\n    2. Qual o impacto social da corrida do ouro na sociedade colonial?\n\n**Dia 4: Movimentos sociais no Período Colonial (1 hora)**\n\n* **Metas:**\n    1. Assistir a um vídeo sobre as principais revoltas e quilombos e listar as motivações de pelo menos dois movimentos diferentes.\n    2. Pesquisar online sobre um movimento social (indiana, quilombo ou rebelião colonial) e resumir suas causas e consequências.\n    3. Criar um quadro comparativo entre pelo menos três movimentos sociais distintos, analisando suas motivações, resultados e impacto na sociedade.\n\n* **Sugestões de Pomodoro:** 25 minutos de estudo + 5 minutos de pausa (repetir 2 vezes) + 10 minutos para o quadro comparativo.\n\n* **Perguntas de Autoavaliação:**\n    1. Quais foram as principais causas das revoltas coloniais?\n    2. Como os quilombos se organizavam e resistiam à escravidão?\n\n**Dia 5: Revisão e Questões (30 minutos)**\n\n* **Metas:**\n    1. Revisar todos os mapas mentais, resumos e anotações produzidos durante a semana.\n    2. Resolver 5 questões online ou do livro didático sobre o período colonial.\n\n* **Sugestões de Pomodoro:** 15 minutos para a revisão + 15 minutos para resolução de questões.\n\n* **Perguntas de Autoavaliação:**\n    1. Quais são os principais conceitos que ainda me causam dúvidas?\n    2. Quais estratégias de estudo foram mais eficazes para mim esta semana?\n\n**Estratégias de Revisão Ativa (Final da semana):**\n\n1. Criar flashcards com os principais nomes, datas-chave (mesmo que aproximadas) e conceitos importantes.\n2. Explicar os ciclos econômicos para um amigo ou familiar, como se estivesse ensinando o conteúdo.\n3. Escrever um pequeno texto (1 parágrafo) sobre a importância da compreensão do período colonial para entender o Brasil atual.\n\n\nEste guia detalhado ajudará você a organizar seus estudos e a monitorar seu progresso. Lembre-se de ser flexível e adaptar as sugestões às suas necessidades.  Boa sorte!"
          },
          "metadata": {},
          "execution_count": 32
        }
      ]
    },
    {
      "cell_type": "code",
      "source": [
        "materia2 = \"Energia, trabalho e potência\"\n",
        "tempo_disponivel2 = \"6 horas\"\n",
        "objetivo2 = \"compreender a conservação de energia e resolver exercícios\"\n",
        "formato_preferido2 = \"vídeos, resumos e prática de exercícios\"\n",
        "dificuldades2 = \"confusão entre energia potencial e cinética\""
      ],
      "metadata": {
        "id": "DfSwPMl7HCe8"
      },
      "execution_count": 33,
      "outputs": []
    },
    {
      "cell_type": "code",
      "source": [
        "resultado2 = guia_personalizado(materia2, tempo_disponivel2, objetivo2, formato_preferido2, dificuldades2)\n",
        "detalhe_resultado2 = detalha_guia(resultado2)"
      ],
      "metadata": {
        "id": "O73pVYKfN00t"
      },
      "execution_count": 34,
      "outputs": []
    },
    {
      "cell_type": "code",
      "source": [
        "from IPython.display import Markdown\n",
        "\n",
        "resultados2 = f\"#📚 Guia personalizado\\n {resultado2}\\n#📔 Guia personalizado detalhado\\n {detalhe_resultado2}\"\n",
        "Markdown(resultados2)"
      ],
      "metadata": {
        "colab": {
          "base_uri": "https://localhost:8080/",
          "height": 1000
        },
        "id": "CSi7nnbvN_rC",
        "outputId": "952cea98-df9d-4f88-e326-d4e3168b1735"
      },
      "execution_count": 36,
      "outputs": [
        {
          "output_type": "execute_result",
          "data": {
            "text/plain": [
              "<IPython.core.display.Markdown object>"
            ],
            "text/markdown": "#📚 Guia personalizado\n ## Plano de Estudo Semanal: Energia, Trabalho e Potência (6 horas)\n\n**Objetivo principal:** Compreender a conservação de energia e resolver exercícios.  Formato preferido: Vídeos, resumos e exercícios.\n\n**Dificuldade específica:** Confusão entre energia potencial e cinética.\n\n\n**Semana 1: Domine a Conservação de Energia!**\n\n**(Total de horas: 6)**\n\n**Segunda-feira (1 hora): Introdução e Conceitos Fundamentais**\n\n* **Tópicos:** Definição de trabalho, energia e potência; unidades de medida (Joule, Watt);  formas de energia (mecânica, térmica, etc.).\n* **Recursos:**\n    * Vídeo introdutório no YouTube (buscar por \"Introdução a Energia, Trabalho e Potência\" -  prefira canais com boa didática, como Khan Academy ou similares).\n    * Resumo do capítulo introdutório de um livro didático de física básica (ex:  \"Fundamentos da Física\" - Halliday, Resnick e Walker).\n* **Técnicas:**  Anote os conceitos-chave, crie um mapa mental relacionando os termos e suas unidades.  Assista ao vídeo duas vezes: uma para compreensão geral, outra para anotações detalhadas.\n* **Pausa:** 10 minutos após 30 minutos de estudo.\n\n\n**Terça-feira (1,5 horas): Energia Cinética e Potencial - Enfrentando a Dificuldade**\n\n* **Tópicos:** Definição e fórmulas de energia cinética e potencial gravitacional; exemplos práticos de cada tipo de energia; relação entre energia cinética e velocidade; relação entre energia potencial gravitacional e altura.\n* **Recursos:**\n    * Vídeo explicativo sobre energia cinética e potencial (YouTube - busque por \"Energia Cinética vs. Energia Potencial - explicado de forma simples\").  Procure por vídeos que usem animações e exemplos práticos.\n    * Crie um resumo comparativo (tabela) com as características de cada tipo de energia (fórmula, variáveis envolvidas, exemplos).\n* **Técnicas:**  Método Feynman: Explique os conceitos em suas próprias palavras como se estivesse ensinando para alguém.  Desenhe diagramas mostrando a transformação de energia cinética em potencial e vice-versa (ex: uma bola sendo lançada para cima).\n* **Estratégias para superar a dificuldade:**  Use analogias: Imagine uma montanha-russa.  A energia potencial é maior no topo e se transforma em cinética na descida. Faça vários exercícios resolvidos com exemplos práticos, focando na mudança entre as energias.\n* **Pausa:** 10 minutos após cada hora de estudo.\n\n\n**Quarta-feira (1,5 horas): Conservação de Energia Mecânica**\n\n* **Tópicos:**  Enunciado do princípio da conservação de energia;  aplicação em sistemas sem atrito; resolução de problemas envolvendo transformação entre energia cinética e potencial.\n* **Recursos:**\n    * Vídeo com resolução de exercícios sobre conservação de energia (YouTube – busque por \"Conservação de energia mecânica – exercícios resolvidos\").\n    * Exercícios de um livro didático (se possível, resolva os exercícios propostos e os desafios).\n* **Técnicas:**  Resolva os exercícios passo a passo, anotando cada etapa e justificando os cálculos. Depois, tente resolver os mesmos exercícios sem olhar a resolução.\n* **Pausa:** 10 minutos após cada hora de estudo.\n\n\n**Quinta-feira (1 hora): Potência**\n\n* **Tópicos:**  Definição de potência; unidade de medida (Watt); relação entre potência, trabalho e tempo; cálculos envolvendo potência.\n* **Recursos:**\n    * Vídeo explicativo sobre potência (YouTube - busque por \"O que é potência? - explicação simples\").\n    * Resumo conciso sobre o conceito de potência, incluindo exemplos práticos.\n* **Técnicas:**  Resolva exercícios práticos envolvendo potência. Utilize a técnica de resolução de problemas em etapas (identificação do problema, formulação de hipóteses, resolução e verificação do resultado).\n* **Pausa:** 10 minutos após 30 minutos de estudo.\n\n\n**Sexta-feira (1 hora): Revisão e Exercícios Mistos**\n\n* **Tópicos:** Revisão de todos os conceitos estudados durante a semana; resolução de exercícios mistos envolvendo trabalho, energia e potência.\n* **Recursos:**  Lista de exercícios mistos (livro didático ou online).\n* **Técnicas:**  Faça uma revisão completa dos seus resumos e anotações. Resolva os exercícios mistos, focando na identificação do tipo de energia envolvida em cada problema.\n* **Pausa:** 10 minutos após 30 minutos de estudo.\n\n\n**Dicas Adicionais:**\n\n* Mantenha um ambiente de estudo organizado e livre de distrações.\n* Beba bastante água e faça pequenas pausas para se alongar e relaxar.\n*  Não se frustre com os exercícios mais difíceis.  Busque ajuda se necessário (professor, colegas, fóruns online).\n*  A consistência é a chave!  Seguindo este plano com dedicação, você terá um ótimo domínio da matéria.\n\n\nLembre-se: a prática é fundamental! Quanto mais exercícios você resolver, melhor será sua compreensão da matéria. Boa sorte!\n#📔 Guia personalizado detalhado\n ## Guia de Detalhamento e Acompanhamento Semanal: Energia, Trabalho e Potência\n\n**Lembrete Motivacional:** \"Esta semana, vamos dominar a energia! A cada conceito compreendido, a confusão entre energia cinética e potencial se dissipará, abrindo caminho para a fluidez na resolução de problemas.\"\n\n\n**Semana 1: Domine a Conservação de Energia!**\n\n**Segunda-feira: Introdução e Conceitos Fundamentais (1 hora)**\n\n* **Metas:**\n    1. Assistir ao vídeo introdutório (Khan Academy ou similar) e anotar 3 pontos-chave sobre trabalho, energia e potência.\n    2. Ler o resumo do capítulo introdutório do livro didático, focando nas definições e unidades de medida.\n    3. Criar um mapa mental relacionando trabalho, energia, potência e suas respectivas unidades (Joule e Watt).\n* **Pomodoro:** 25 minutos de estudo, 5 minutos de pausa.  Repetir 3 vezes.\n* **Autoavaliação:**  Consigo definir trabalho, energia e potência com minhas próprias palavras e citar suas unidades de medida?\n\n\n**Terça-feira: Energia Cinética e Potencial (1,5 horas)**\n\n* **Metas:**\n    1. Assistir ao vídeo explicativo sobre energia cinética e potencial, prestando atenção nas animações e exemplos.\n    2. Criar uma tabela comparativa entre energia cinética e potencial (fórmula, variáveis, exemplos).\n    3. Aplicar o Método Feynman: Explicar a diferença entre energia cinética e potencial para um amigo imaginário.\n* **Pomodoro:** 50 minutos de estudo, 10 minutos de pausa. Repetir 2 vezes.\n* **Autoavaliação:** Consigo explicar a relação entre a velocidade e a energia cinética? E a relação entre altura e energia potencial gravitacional?  Quais exemplos práticos me ajudaram a entender melhor a diferença entre os dois tipos de energia?\n\n\n**Quarta-feira: Conservação de Energia Mecânica (1,5 horas)**\n\n* **Metas:**\n    1. Assistir a um vídeo com resolução de exercícios sobre conservação de energia. Anotar os passos da resolução de pelo menos dois exercícios.\n    2. Resolver 3 exercícios do livro didático sobre conservação de energia em sistemas sem atrito.\n    3. Rever e tentar resolver os mesmos 3 exercícios sem olhar as soluções.\n* **Pomodoro:** 50 minutos de estudo, 10 minutos de pausa. Repetir 2 vezes.\n* **Autoavaliação:**  Consigo aplicar o princípio da conservação de energia em problemas práticos?  Quais foram as maiores dificuldades encontradas ao resolver os exercícios e como as superei?\n\n\n**Quinta-feira: Potência (1 hora)**\n\n* **Metas:**\n    1. Assistir ao vídeo explicativo sobre potência e criar um resumo conciso com exemplos práticos.\n    2. Resolver 5 exercícios práticos envolvendo cálculos de potência.\n* **Pomodoro:** 25 minutos de estudo, 5 minutos de pausa. Repetir 3 vezes.\n* **Autoavaliação:** Consigo definir potência e explicar a relação entre potência, trabalho e tempo?\n\n\n**Sexta-feira: Revisão e Exercícios Mistos (1 hora)**\n\n* **Metas:**\n    1. Rever todos os resumos e anotações da semana.\n    2. Resolver 3 exercícios mistos envolvendo trabalho, energia e potência.\n* **Pomodoro:** 30 minutos de estudo, 10 minutos de pausa. Repetir 2 vezes.\n* **Autoavaliação:**  Consigo identificar o tipo de energia envolvida em cada problema?  Quais conceitos ainda precisam de mais atenção?\n\n\n**Estratégias de Revisão Ativa (Final da Semana):**\n\n1. **Flashcards:** Crie flashcards com os termos-chave (energia cinética, energia potencial, potência, trabalho, Joule, Watt, conservação de energia).\n2. **Explicação para alguém:** Tente explicar os conceitos de energia cinética e potencial para um amigo ou familiar, focando nas diferenças entre elas.\n3. **Problema prático sem consulta:** Escolha um exercício misturado da lista e tente resolvê-lo sem consultar as anotações ou vídeos.\n\n\nEste guia detalhado irá ajudá-lo a manter o foco e a monitorar seu progresso durante a semana. Lembre-se:  a consistência e a prática são fundamentais para o sucesso!  Boa semana de estudos!"
          },
          "metadata": {},
          "execution_count": 36
        }
      ]
    }
  ]
}